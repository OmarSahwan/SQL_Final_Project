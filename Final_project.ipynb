{
  "cells": [
    {
      "cell_type": "markdown",
      "metadata": {
        "id": "6da55db0-26bb-475d-a737-b03af1c297b7"
      },
      "source": [
        "# Introduction\n",
        "\n",
        "Using this Python notebook you will:\n",
        "\n",
        "1.  Understand three Chicago datasets\n",
        "2.  Load the three datasets into three tables in a SQLIte database\n",
        "3.  Execute SQL queries to answer assignment questions\n"
      ]
    },
    {
      "cell_type": "markdown",
      "metadata": {
        "id": "25708ec0-6dee-4aab-8884-0b2356d378bc"
      },
      "source": [
        "## Understand the datasets\n",
        "\n",
        "To complete the assignment problems in this notebook you will be using three datasets that are available on the city of Chicago's Data Portal:\n",
        "\n",
        "1.  <a href=\"https://data.cityofchicago.org/Health-Human-Services/Census-Data-Selected-socioeconomic-indicators-in-C/kn9c-c2s2?utm_medium=Exinfluencer&utm_source=Exinfluencer&utm_content=000026UJ&utm_term=10006555&utm_id=NA-SkillsNetwork-Channel-SkillsNetworkCoursesIBMDeveloperSkillsNetworkDB0201ENSkillsNetwork20127838-2021-01-01\">Socioeconomic Indicators in Chicago</a>\n",
        "2.  <a href=\"https://data.cityofchicago.org/Education/Chicago-Public-Schools-Progress-Report-Cards-2011-/9xs2-f89t?utm_medium=Exinfluencer&utm_source=Exinfluencer&utm_content=000026UJ&utm_term=10006555&utm_id=NA-SkillsNetwork-Channel-SkillsNetworkCoursesIBMDeveloperSkillsNetworkDB0201ENSkillsNetwork20127838-2021-01-01\">Chicago Public Schools</a>\n",
        "3.  <a href=\"https://data.cityofchicago.org/Public-Safety/Crimes-2001-to-present/ijzp-q8t2?utm_medium=Exinfluencer&utm_source=Exinfluencer&utm_content=000026UJ&utm_term=10006555&utm_id=NA-SkillsNetwork-Channel-SkillsNetworkCoursesIBMDeveloperSkillsNetworkDB0201ENSkillsNetwork20127838-2021-01-01\">Chicago Crime Data</a>\n",
        "\n",
        "### 1. Socioeconomic Indicators in Chicago\n",
        "\n",
        "This dataset contains a selection of six socioeconomic indicators of public health significance and a “hardship index,” for each Chicago community area, for the years 2008 – 2012.\n",
        "\n",
        "A detailed description of this dataset and the original dataset can be obtained from the Chicago Data Portal at:\n",
        "\n",
        "[https://data.cityofchicago.org/Health-Human-Services/Census-Data-Selected-socioeconomic-indicators-in-C/kn9c-c2s2](https://data.cityofchicago.org/Health-Human-Services/Census-Data-Selected-socioeconomic-indicators-in-C/kn9c-c2s2?utm_medium=Exinfluencer&utm_source=Exinfluencer&utm_content=000026UJ&utm_term=10006555&utm_id=NA-SkillsNetwork-Channel-SkillsNetworkCoursesIBMDeveloperSkillsNetworkDB0201ENSkillsNetwork20127838-2021-01-01&cm_mmc=Email_Newsletter-\\_-Developer_Ed%2BTech-\\_-WW_WW-\\_-SkillsNetwork-Courses-IBMDeveloperSkillsNetwork-DB0201EN-SkillsNetwork-20127838&cm_mmca1=000026UJ&cm_mmca2=10006555&cm_mmca3=M12345678&cvosrc=email.Newsletter.M12345678&cvo_campaign=000026UJ)\n",
        "\n",
        "### 2. Chicago Public Schools\n",
        "\n",
        "This dataset shows all school level performance data used to create CPS School Report Cards for the 2011-2012 school year. This dataset is provided by the city of Chicago's Data Portal.\n",
        "\n",
        "A detailed description of this dataset and the original dataset can be obtained from the Chicago Data Portal at:\n",
        "\n",
        "[https://data.cityofchicago.org/Education/Chicago-Public-Schools-Progress-Report-Cards-2011-/9xs2-f89t](https://data.cityofchicago.org/Education/Chicago-Public-Schools-Progress-Report-Cards-2011-/9xs2-f89t?utm_medium=Exinfluencer&utm_source=Exinfluencer&utm_content=000026UJ&utm_term=10006555&utm_id=NA-SkillsNetwork-Channel-SkillsNetworkCoursesIBMDeveloperSkillsNetworkDB0201ENSkillsNetwork20127838-2021-01-01&cm_mmc=Email_Newsletter-\\_-Developer_Ed%2BTech-\\_-WW_WW-\\_-SkillsNetwork-Courses-IBMDeveloperSkillsNetwork-DB0201EN-SkillsNetwork-20127838&cm_mmca1=000026UJ&cm_mmca2=10006555&cm_mmca3=M12345678&cvosrc=email.Newsletter.M12345678&cvo_campaign=000026UJ)\n",
        "\n",
        "### 3. Chicago Crime Data\n",
        "\n",
        "This dataset reflects reported incidents of crime (with the exception of murders where data exists for each victim) that occurred in the City of Chicago from 2001 to present, minus the most recent seven days.\n",
        "\n",
        "A detailed description of this dataset and the original dataset can be obtained from the Chicago Data Portal at:\n",
        "\n",
        "[https://data.cityofchicago.org/Public-Safety/Crimes-2001-to-present/ijzp-q8t2](https://data.cityofchicago.org/Public-Safety/Crimes-2001-to-present/ijzp-q8t2?utm_medium=Exinfluencer&utm_source=Exinfluencer&utm_content=000026UJ&utm_term=10006555&utm_id=NA-SkillsNetwork-Channel-SkillsNetworkCoursesIBMDeveloperSkillsNetworkDB0201ENSkillsNetwork20127838-2021-01-01&cm_mmc=Email_Newsletter-\\_-Developer_Ed%2BTech-\\_-WW_WW-\\_-SkillsNetwork-Courses-IBMDeveloperSkillsNetwork-DB0201EN-SkillsNetwork-20127838&cm_mmca1=000026UJ&cm_mmca2=10006555&cm_mmca3=M12345678&cvosrc=email.Newsletter.M12345678&cvo_campaign=000026UJ)\n"
      ]
    },
    {
      "cell_type": "markdown",
      "metadata": {
        "id": "79726371-c2dc-4f39-8efd-770b93f5cb1c"
      },
      "source": [
        "### Download the datasets\n",
        "\n",
        "This assignment requires you to have these three tables populated with a subset of the whole datasets.\n",
        "\n",
        "In many cases the dataset to be analyzed is available as a .CSV (comma separated values) file, perhaps on the internet.\n",
        "\n",
        "Use the links below to read the data files using the Pandas library.\n",
        "\n",
        "* Chicago Census Data\n",
        "\n",
        "https://cf-courses-data.s3.us.cloud-object-storage.appdomain.cloud/IBMDeveloperSkillsNetwork-DB0201EN-SkillsNetwork/labs/FinalModule_Coursera_V5/data/ChicagoCensusData.csv?utm_medium=Exinfluencer&utm_source=Exinfluencer&utm_content=000026UJ&utm_term=10006555&utm_id=NA-SkillsNetwork-Channel-SkillsNetworkCoursesIBMDeveloperSkillsNetworkDB0201ENSkillsNetwork20127838-2021-01-01\n",
        "\n",
        "* Chicago Public Schools\n",
        "\n",
        "https://cf-courses-data.s3.us.cloud-object-storage.appdomain.cloud/IBMDeveloperSkillsNetwork-DB0201EN-SkillsNetwork/labs/FinalModule_Coursera_V5/data/ChicagoPublicSchools.csv?utm_medium=Exinfluencer&utm_source=Exinfluencer&utm_content=000026UJ&utm_term=10006555&utm_id=NA-SkillsNetwork-Channel-SkillsNetworkCoursesIBMDeveloperSkillsNetworkDB0201ENSkillsNetwork20127838-2021-01-01\n",
        "\n",
        "* Chicago Crime Data\n",
        "\n",
        "https://cf-courses-data.s3.us.cloud-object-storage.appdomain.cloud/IBMDeveloperSkillsNetwork-DB0201EN-SkillsNetwork/labs/FinalModule_Coursera_V5/data/ChicagoCrimeData.csv?utm_medium=Exinfluencer&utm_source=Exinfluencer&utm_content=000026UJ&utm_term=10006555&utm_id=NA-SkillsNetwork-Channel-SkillsNetworkCoursesIBMDeveloperSkillsNetworkDB0201ENSkillsNetwork20127838-2021-01-01\n",
        "\n",
        "**NOTE:** Ensure you use the datasets available on the links above instead of directly from the Chicago Data Portal. The versions linked here are subsets of the original datasets and have some of the column names modified to be more database friendly which will make it easier to complete this assignment.\n"
      ]
    },
    {
      "cell_type": "markdown",
      "metadata": {
        "id": "7f736695-f4a1-4012-afe0-f5db688b4742"
      },
      "source": [
        "### Store the datasets in database tables\n",
        "\n",
        "To analyze the data using SQL, it first needs to be loaded into SQLite DB.\n",
        "We will create three tables in as under:\n",
        "\n",
        "1.  **CENSUS_DATA**\n",
        "2.  **CHICAGO_PUBLIC_SCHOOLS**\n",
        "3.  **CHICAGO_CRIME_DATA**\n"
      ]
    },
    {
      "cell_type": "markdown",
      "metadata": {
        "id": "e39dc4a6-6331-43ce-b6b2-2efa6b54959a"
      },
      "source": [
        "Load the `pandas` and `sqlite3` libraries and establish a connection to `FinalDB.db`\n"
      ]
    },
    {
      "cell_type": "code",
      "execution_count": 3,
      "metadata": {
        "vscode": {
          "languageId": "python"
        },
        "id": "60f034e6-a374-4335-bc8a-177b82dd693b"
      },
      "outputs": [],
      "source": [
        "# prompt: Load the pandas and sqlite3 libraries and establish a connection to FinalDB.db\n",
        "\n",
        "import pandas as pd\n",
        "import sqlite3\n",
        "conn = sqlite3.connect('FinalDB.db')\n"
      ]
    },
    {
      "cell_type": "code",
      "execution_count": 2,
      "metadata": {
        "vscode": {
          "languageId": "python"
        },
        "id": "67f61317-a63d-4081-8493-967e94e72a14"
      },
      "outputs": [],
      "source": [
        "\n",
        "%load_ext sql\n"
      ]
    },
    {
      "cell_type": "markdown",
      "metadata": {
        "id": "59a88d6c-4121-4503-9f91-13e1227d87a1"
      },
      "source": [
        "Use `Pandas` to load the data available in the links above to dataframes. Use these dataframes to load data on to the database `FinalDB.db` as required tables.\n"
      ]
    },
    {
      "cell_type": "code",
      "execution_count": 4,
      "metadata": {
        "vscode": {
          "languageId": "python"
        },
        "id": "fe517d83-13d9-4718-9924-3b662adf6d5a",
        "colab": {
          "base_uri": "https://localhost:8080/"
        },
        "outputId": "080990b1-1564-423c-9ee9-c96bee5aa3b6"
      },
      "outputs": [
        {
          "output_type": "execute_result",
          "data": {
            "text/plain": [
              "533"
            ]
          },
          "metadata": {},
          "execution_count": 4
        }
      ],
      "source": [
        "# Chicago Census Data\n",
        "census_data = pd.read_csv('/content/ChicagoCensusData.csv')\n",
        "census_data.to_sql(\"CENSUS_DATA\", conn, if_exists='replace', index=False,method=\"multi\")\n",
        "\n",
        "# Chicago Public Schools\n",
        "\n",
        "public_schools_data = pd.read_csv('/content/ChicagoPublicSchools.csv')\n",
        "public_schools_data.to_sql(\"CHICAGO_PUBLIC_SCHOOLS\", conn, if_exists='replace', index=False,method=\"multi\")\n",
        "\n",
        "# Chicago Crime Data\n",
        "\n",
        "crime_data = pd.read_csv('/content/ChicagoCrimeData.csv')\n",
        "crime_data.to_sql(\"CHICAGO_CRIME_DATA\", conn, if_exists='replace', index=False,method=\"multi\")\n"
      ]
    },
    {
      "cell_type": "markdown",
      "metadata": {
        "id": "063a37f3-f16f-462f-b9c9-837e3a6c2782"
      },
      "source": [
        "\\Establish a connection between SQL magic module and the database `FinalDB.db`\n"
      ]
    },
    {
      "cell_type": "code",
      "execution_count": 5,
      "metadata": {
        "vscode": {
          "languageId": "python"
        },
        "id": "41dbb78c-3273-4e36-9f66-3c6f289523dc"
      },
      "outputs": [],
      "source": [
        "\n",
        "%sql sqlite:///FinalDB.db\n"
      ]
    },
    {
      "cell_type": "markdown",
      "metadata": {
        "id": "af5e6fee-b5c9-47a3-ac34-150f21db1ee9"
      },
      "source": [
        "You can now proceed to the the following questions. Please note that a graded assignment will follow this lab and there will be a question on each of the problems stated below. It can be from the answer you received or the code you write for this problem. Therefore, please keep a note of both your codes as well as the response you generate.\n"
      ]
    },
    {
      "cell_type": "markdown",
      "metadata": {
        "id": "cca74628-d657-4b61-bee7-809150540c0d"
      },
      "source": [
        "## Problems\n",
        "\n",
        "Now write and execute SQL queries to solve assignment problems\n",
        "\n",
        "### Problem 1\n",
        "\n",
        "##### Find the total number of crimes recorded in the CRIME table.\n"
      ]
    },
    {
      "cell_type": "code",
      "execution_count": 9,
      "metadata": {
        "vscode": {
          "languageId": "python"
        },
        "id": "ced14416-72fb-45e8-a221-f97a1eef3083",
        "colab": {
          "base_uri": "https://localhost:8080/",
          "height": 96
        },
        "outputId": "47a7b929-07af-49f8-c5c9-685fe190a067"
      },
      "outputs": [
        {
          "output_type": "stream",
          "name": "stdout",
          "text": [
            " * sqlite:///FinalDB.db\n",
            "Done.\n"
          ]
        },
        {
          "output_type": "execute_result",
          "data": {
            "text/plain": [
              "[(533,)]"
            ],
            "text/html": [
              "<table>\n",
              "    <thead>\n",
              "        <tr>\n",
              "            <th>COUNT(ID)</th>\n",
              "        </tr>\n",
              "    </thead>\n",
              "    <tbody>\n",
              "        <tr>\n",
              "            <td>533</td>\n",
              "        </tr>\n",
              "    </tbody>\n",
              "</table>"
            ]
          },
          "metadata": {},
          "execution_count": 9
        }
      ],
      "source": [
        "%%sql\n",
        "SELECT COUNT(ID) FROM CHICAGO_CRIME_DATA;\n"
      ]
    },
    {
      "cell_type": "markdown",
      "metadata": {
        "id": "581d514b-2df9-421e-869b-78385c3cf214"
      },
      "source": [
        "### Problem 2\n",
        "\n",
        "##### List community area names and numbers with per capita income less than 11000.\n"
      ]
    },
    {
      "cell_type": "code",
      "execution_count": 10,
      "metadata": {
        "vscode": {
          "languageId": "python"
        },
        "id": "29f3a173-978d-4305-9928-7f80ec137f14",
        "colab": {
          "base_uri": "https://localhost:8080/",
          "height": 161
        },
        "outputId": "2af422cd-bf07-4d38-886b-30cdeb37ac9a"
      },
      "outputs": [
        {
          "output_type": "stream",
          "name": "stdout",
          "text": [
            " * sqlite:///FinalDB.db\n",
            "Done.\n"
          ]
        },
        {
          "output_type": "execute_result",
          "data": {
            "text/plain": [
              "[('West Garfield Park', 26.0),\n",
              " ('South Lawndale', 30.0),\n",
              " ('Fuller Park', 37.0),\n",
              " ('Riverdale', 54.0)]"
            ],
            "text/html": [
              "<table>\n",
              "    <thead>\n",
              "        <tr>\n",
              "            <th>COMMUNITY_AREA_NAME</th>\n",
              "            <th>COMMUNITY_AREA_NUMBER</th>\n",
              "        </tr>\n",
              "    </thead>\n",
              "    <tbody>\n",
              "        <tr>\n",
              "            <td>West Garfield Park</td>\n",
              "            <td>26.0</td>\n",
              "        </tr>\n",
              "        <tr>\n",
              "            <td>South Lawndale</td>\n",
              "            <td>30.0</td>\n",
              "        </tr>\n",
              "        <tr>\n",
              "            <td>Fuller Park</td>\n",
              "            <td>37.0</td>\n",
              "        </tr>\n",
              "        <tr>\n",
              "            <td>Riverdale</td>\n",
              "            <td>54.0</td>\n",
              "        </tr>\n",
              "    </tbody>\n",
              "</table>"
            ]
          },
          "metadata": {},
          "execution_count": 10
        }
      ],
      "source": [
        "%%sql\n",
        "SELECT COMMUNITY_AREA_NAME, COMMUNITY_AREA_NUMBER\n",
        "FROM CENSUS_DATA\n",
        "WHERE PER_CAPITA_INCOME < 11000;\n"
      ]
    },
    {
      "cell_type": "markdown",
      "metadata": {
        "id": "52b19110-1586-46cc-98e2-b4848d7b2ebd"
      },
      "source": [
        "### Problem 3\n",
        "\n",
        "##### List all case numbers for crimes involving minors?(children are not considered minors for the purposes of crime analysis)\n"
      ]
    },
    {
      "cell_type": "code",
      "execution_count": 11,
      "metadata": {
        "vscode": {
          "languageId": "python"
        },
        "id": "09575e90-d07c-43f4-b61e-625d4fe69109",
        "colab": {
          "base_uri": "https://localhost:8080/",
          "height": 118
        },
        "outputId": "0321e50d-5ed8-49b7-f712-e102ca496100"
      },
      "outputs": [
        {
          "output_type": "stream",
          "name": "stdout",
          "text": [
            " * sqlite:///FinalDB.db\n",
            "Done.\n"
          ]
        },
        {
          "output_type": "execute_result",
          "data": {
            "text/plain": [
              "[('HL266884',), ('HK238408',)]"
            ],
            "text/html": [
              "<table>\n",
              "    <thead>\n",
              "        <tr>\n",
              "            <th>CASE_NUMBER</th>\n",
              "        </tr>\n",
              "    </thead>\n",
              "    <tbody>\n",
              "        <tr>\n",
              "            <td>HL266884</td>\n",
              "        </tr>\n",
              "        <tr>\n",
              "            <td>HK238408</td>\n",
              "        </tr>\n",
              "    </tbody>\n",
              "</table>"
            ]
          },
          "metadata": {},
          "execution_count": 11
        }
      ],
      "source": [
        "\n",
        "%%sql\n",
        "SELECT CASE_NUMBER\n",
        "FROM CHICAGO_CRIME_DATA\n",
        "WHERE DESCRIPTION LIKE '%MINOR%';\n"
      ]
    },
    {
      "cell_type": "markdown",
      "metadata": {
        "id": "c52d0256-0a78-46f2-9251-072acb242bd3"
      },
      "source": [
        "### Problem 4\n",
        "\n",
        "##### List all kidnapping crimes involving a child?\n"
      ]
    },
    {
      "cell_type": "code",
      "execution_count": 12,
      "metadata": {
        "vscode": {
          "languageId": "python"
        },
        "id": "aa27175a-49d1-4c66-ba5e-3b8e85e5aeb1",
        "colab": {
          "base_uri": "https://localhost:8080/",
          "height": 96
        },
        "outputId": "99c98c8c-fa48-4adf-f743-4a3c0deef84f"
      },
      "outputs": [
        {
          "output_type": "stream",
          "name": "stdout",
          "text": [
            " * sqlite:///FinalDB.db\n",
            "Done.\n"
          ]
        },
        {
          "output_type": "execute_result",
          "data": {
            "text/plain": [
              "[('HN144152', 'KIDNAPPING', 'CHILD ABDUCTION/STRANGER')]"
            ],
            "text/html": [
              "<table>\n",
              "    <thead>\n",
              "        <tr>\n",
              "            <th>CASE_NUMBER</th>\n",
              "            <th>PRIMARY_TYPE</th>\n",
              "            <th>DESCRIPTION</th>\n",
              "        </tr>\n",
              "    </thead>\n",
              "    <tbody>\n",
              "        <tr>\n",
              "            <td>HN144152</td>\n",
              "            <td>KIDNAPPING</td>\n",
              "            <td>CHILD ABDUCTION/STRANGER</td>\n",
              "        </tr>\n",
              "    </tbody>\n",
              "</table>"
            ]
          },
          "metadata": {},
          "execution_count": 12
        }
      ],
      "source": [
        "\n",
        "%%sql\n",
        "SELECT CASE_NUMBER, PRIMARY_TYPE, DESCRIPTION\n",
        "FROM CHICAGO_CRIME_DATA\n",
        "WHERE PRIMARY_TYPE = 'KIDNAPPING' AND DESCRIPTION LIKE '%CHILD%';\n"
      ]
    },
    {
      "cell_type": "markdown",
      "metadata": {
        "id": "5b70ae1d-e796-44ee-b03d-4feeac4f30aa"
      },
      "source": [
        "### Problem 5\n",
        "\n",
        "##### List the kind of crimes that were recorded at schools. (No repetitions)\n"
      ]
    },
    {
      "cell_type": "code",
      "execution_count": 13,
      "metadata": {
        "vscode": {
          "languageId": "python"
        },
        "id": "b7f73602-f77f-476b-93b3-2b3ee13226ce",
        "colab": {
          "base_uri": "https://localhost:8080/",
          "height": 203
        },
        "outputId": "5e57060c-c060-4444-ca2d-28c209a6d93a"
      },
      "outputs": [
        {
          "output_type": "stream",
          "name": "stdout",
          "text": [
            " * sqlite:///FinalDB.db\n",
            "Done.\n"
          ]
        },
        {
          "output_type": "execute_result",
          "data": {
            "text/plain": [
              "[('BATTERY',),\n",
              " ('CRIMINAL DAMAGE',),\n",
              " ('NARCOTICS',),\n",
              " ('ASSAULT',),\n",
              " ('CRIMINAL TRESPASS',),\n",
              " ('PUBLIC PEACE VIOLATION',)]"
            ],
            "text/html": [
              "<table>\n",
              "    <thead>\n",
              "        <tr>\n",
              "            <th>PRIMARY_TYPE</th>\n",
              "        </tr>\n",
              "    </thead>\n",
              "    <tbody>\n",
              "        <tr>\n",
              "            <td>BATTERY</td>\n",
              "        </tr>\n",
              "        <tr>\n",
              "            <td>CRIMINAL DAMAGE</td>\n",
              "        </tr>\n",
              "        <tr>\n",
              "            <td>NARCOTICS</td>\n",
              "        </tr>\n",
              "        <tr>\n",
              "            <td>ASSAULT</td>\n",
              "        </tr>\n",
              "        <tr>\n",
              "            <td>CRIMINAL TRESPASS</td>\n",
              "        </tr>\n",
              "        <tr>\n",
              "            <td>PUBLIC PEACE VIOLATION</td>\n",
              "        </tr>\n",
              "    </tbody>\n",
              "</table>"
            ]
          },
          "metadata": {},
          "execution_count": 13
        }
      ],
      "source": [
        "\n",
        "%%sql\n",
        "SELECT DISTINCT(PRIMARY_TYPE)\n",
        "FROM CHICAGO_CRIME_DATA\n",
        "WHERE LOCATION_DESCRIPTION LIKE '%SCHOOL%';\n"
      ]
    },
    {
      "cell_type": "markdown",
      "metadata": {
        "id": "a341c86c-d295-42f6-a13b-a1b4958302aa"
      },
      "source": [
        "### Problem 6\n",
        "\n",
        "##### List the type of schools along with the average safety score for each type.\n"
      ]
    },
    {
      "cell_type": "code",
      "execution_count": 14,
      "metadata": {
        "vscode": {
          "languageId": "python"
        },
        "id": "10a2bb93-db58-4813-9bf9-1e9b12c30048",
        "colab": {
          "base_uri": "https://localhost:8080/",
          "height": 139
        },
        "outputId": "0fd9b346-62a8-411a-a4bd-9010a8fb7af5"
      },
      "outputs": [
        {
          "output_type": "stream",
          "name": "stdout",
          "text": [
            " * sqlite:///FinalDB.db\n",
            "Done.\n"
          ]
        },
        {
          "output_type": "execute_result",
          "data": {
            "text/plain": [
              "[('ES', 49.52038369304557), ('HS', 49.62352941176471), ('MS', 48.0)]"
            ],
            "text/html": [
              "<table>\n",
              "    <thead>\n",
              "        <tr>\n",
              "            <th>Elementary, Middle, or High School</th>\n",
              "            <th>AVERAGE_SAFETY_SCORE</th>\n",
              "        </tr>\n",
              "    </thead>\n",
              "    <tbody>\n",
              "        <tr>\n",
              "            <td>ES</td>\n",
              "            <td>49.52038369304557</td>\n",
              "        </tr>\n",
              "        <tr>\n",
              "            <td>HS</td>\n",
              "            <td>49.62352941176471</td>\n",
              "        </tr>\n",
              "        <tr>\n",
              "            <td>MS</td>\n",
              "            <td>48.0</td>\n",
              "        </tr>\n",
              "    </tbody>\n",
              "</table>"
            ]
          },
          "metadata": {},
          "execution_count": 14
        }
      ],
      "source": [
        "%%sql\n",
        "SELECT \"Elementary, Middle, or High School\", AVG(SAFETY_SCORE) AS AVERAGE_SAFETY_SCORE\n",
        "FROM CHICAGO_PUBLIC_SCHOOLS\n",
        "GROUP BY \"Elementary, Middle, or High School\";\n"
      ]
    },
    {
      "cell_type": "markdown",
      "metadata": {
        "id": "1af832d2-fc2b-4b0e-9303-ef417386220b"
      },
      "source": [
        "### Problem 7\n",
        "\n",
        "##### List 5 community areas with highest % of households below poverty line\n"
      ]
    },
    {
      "cell_type": "code",
      "execution_count": 15,
      "metadata": {
        "vscode": {
          "languageId": "python"
        },
        "id": "f3326b69-aca9-4e15-8db8-5090a4417dc1",
        "colab": {
          "base_uri": "https://localhost:8080/",
          "height": 182
        },
        "outputId": "8a31f542-b9ab-4133-d084-aec7bfa18543"
      },
      "outputs": [
        {
          "output_type": "stream",
          "name": "stdout",
          "text": [
            " * sqlite:///FinalDB.db\n",
            "Done.\n"
          ]
        },
        {
          "output_type": "execute_result",
          "data": {
            "text/plain": [
              "[('Riverdale', 56.5),\n",
              " ('Fuller Park', 51.2),\n",
              " ('Englewood', 46.6),\n",
              " ('North Lawndale', 43.1),\n",
              " ('East Garfield Park', 42.4)]"
            ],
            "text/html": [
              "<table>\n",
              "    <thead>\n",
              "        <tr>\n",
              "            <th>COMMUNITY_AREA_NAME</th>\n",
              "            <th>PERCENT_HOUSEHOLDS_BELOW_POVERTY</th>\n",
              "        </tr>\n",
              "    </thead>\n",
              "    <tbody>\n",
              "        <tr>\n",
              "            <td>Riverdale</td>\n",
              "            <td>56.5</td>\n",
              "        </tr>\n",
              "        <tr>\n",
              "            <td>Fuller Park</td>\n",
              "            <td>51.2</td>\n",
              "        </tr>\n",
              "        <tr>\n",
              "            <td>Englewood</td>\n",
              "            <td>46.6</td>\n",
              "        </tr>\n",
              "        <tr>\n",
              "            <td>North Lawndale</td>\n",
              "            <td>43.1</td>\n",
              "        </tr>\n",
              "        <tr>\n",
              "            <td>East Garfield Park</td>\n",
              "            <td>42.4</td>\n",
              "        </tr>\n",
              "    </tbody>\n",
              "</table>"
            ]
          },
          "metadata": {},
          "execution_count": 15
        }
      ],
      "source": [
        "%%sql\n",
        "SELECT COMMUNITY_AREA_NAME, PERCENT_HOUSEHOLDS_BELOW_POVERTY\n",
        "FROM CENSUS_DATA\n",
        "ORDER BY PERCENT_HOUSEHOLDS_BELOW_POVERTY DESC\n",
        "LIMIT 5;\n"
      ]
    },
    {
      "cell_type": "markdown",
      "metadata": {
        "id": "b5b8f40b-8730-4e15-8917-5b2b0d1c0081"
      },
      "source": [
        "### Problem 8\n",
        "\n",
        "##### Which community area is most crime prone? Display the coumminty area number only.\n"
      ]
    },
    {
      "cell_type": "code",
      "execution_count": 18,
      "metadata": {
        "vscode": {
          "languageId": "python"
        },
        "id": "3762205a-da60-4f38-83d9-e588a78ca832",
        "colab": {
          "base_uri": "https://localhost:8080/",
          "height": 96
        },
        "outputId": "ef9fc38f-ccf3-4081-9638-5d3999525beb"
      },
      "outputs": [
        {
          "output_type": "stream",
          "name": "stdout",
          "text": [
            " * sqlite:///FinalDB.db\n",
            "Done.\n"
          ]
        },
        {
          "output_type": "execute_result",
          "data": {
            "text/plain": [
              "[(25.0,)]"
            ],
            "text/html": [
              "<table>\n",
              "    <thead>\n",
              "        <tr>\n",
              "            <th>COMMUNITY_AREA_NUMBER</th>\n",
              "        </tr>\n",
              "    </thead>\n",
              "    <tbody>\n",
              "        <tr>\n",
              "            <td>25.0</td>\n",
              "        </tr>\n",
              "    </tbody>\n",
              "</table>"
            ]
          },
          "metadata": {},
          "execution_count": 18
        }
      ],
      "source": [
        "%%sql\n",
        "SELECT COMMUNITY_AREA_NUMBER\n",
        "FROM CHICAGO_CRIME_DATA\n",
        "GROUP BY COMMUNITY_AREA_NUMBER\n",
        "ORDER BY COUNT(*) DESC\n",
        "LIMIT 1;\n"
      ]
    },
    {
      "cell_type": "markdown",
      "metadata": {
        "id": "7c992021-73ca-4f5f-b5bb-ff10316a56f7"
      },
      "source": [
        "\n",
        "Double-click **here** for a hint\n",
        "\n",
        "<!--\n",
        "Query for the 'community area number' that has most number of incidents\n",
        "-->\n"
      ]
    },
    {
      "cell_type": "markdown",
      "metadata": {
        "id": "03e5d1b0-b892-4d10-a256-1475e4ce984d"
      },
      "source": [
        "### Problem 9\n",
        "\n",
        "##### Use a sub-query to find the name of the community area with highest hardship index\n"
      ]
    },
    {
      "cell_type": "code",
      "execution_count": 16,
      "metadata": {
        "vscode": {
          "languageId": "python"
        },
        "id": "31a5e2f6-72ba-4c1d-b9be-dcf44f78afa5",
        "colab": {
          "base_uri": "https://localhost:8080/",
          "height": 96
        },
        "outputId": "587dc236-010c-4bc3-ac03-9f491a107226"
      },
      "outputs": [
        {
          "output_type": "stream",
          "name": "stdout",
          "text": [
            " * sqlite:///FinalDB.db\n",
            "Done.\n"
          ]
        },
        {
          "output_type": "execute_result",
          "data": {
            "text/plain": [
              "[('Riverdale',)]"
            ],
            "text/html": [
              "<table>\n",
              "    <thead>\n",
              "        <tr>\n",
              "            <th>COMMUNITY_AREA_NAME</th>\n",
              "        </tr>\n",
              "    </thead>\n",
              "    <tbody>\n",
              "        <tr>\n",
              "            <td>Riverdale</td>\n",
              "        </tr>\n",
              "    </tbody>\n",
              "</table>"
            ]
          },
          "metadata": {},
          "execution_count": 16
        }
      ],
      "source": [
        "%%sql\n",
        "SELECT COMMUNITY_AREA_NAME\n",
        "FROM CENSUS_DATA\n",
        "WHERE HARDSHIP_INDEX = (SELECT MAX(HARDSHIP_INDEX) FROM CENSUS_DATA);\n"
      ]
    },
    {
      "cell_type": "markdown",
      "metadata": {
        "id": "e65cf7ab-4a90-4099-8996-905108eed8e2"
      },
      "source": [
        "### Problem 10\n",
        "\n",
        "##### Use a sub-query to determine the Community Area Name with most number of crimes?\n"
      ]
    },
    {
      "cell_type": "code",
      "execution_count": 17,
      "metadata": {
        "vscode": {
          "languageId": "python"
        },
        "id": "77a98ee5-d25d-4c45-8280-0c61e004faf9",
        "colab": {
          "base_uri": "https://localhost:8080/",
          "height": 96
        },
        "outputId": "131f68c9-e3eb-444e-c948-8915ef9271f1"
      },
      "outputs": [
        {
          "output_type": "stream",
          "name": "stdout",
          "text": [
            " * sqlite:///FinalDB.db\n",
            "Done.\n"
          ]
        },
        {
          "output_type": "execute_result",
          "data": {
            "text/plain": [
              "[('Austin',)]"
            ],
            "text/html": [
              "<table>\n",
              "    <thead>\n",
              "        <tr>\n",
              "            <th>COMMUNITY_AREA_NAME</th>\n",
              "        </tr>\n",
              "    </thead>\n",
              "    <tbody>\n",
              "        <tr>\n",
              "            <td>Austin</td>\n",
              "        </tr>\n",
              "    </tbody>\n",
              "</table>"
            ]
          },
          "metadata": {},
          "execution_count": 17
        }
      ],
      "source": [
        "%%sql\n",
        "SELECT COMMUNITY_AREA_NAME\n",
        "FROM CENSUS_DATA\n",
        "WHERE COMMUNITY_AREA_NUMBER = (\n",
        "    SELECT COMMUNITY_AREA_NUMBER\n",
        "    FROM CHICAGO_CRIME_DATA\n",
        "    GROUP BY COMMUNITY_AREA_NUMBER\n",
        "    ORDER BY COUNT(*) DESC\n",
        "    LIMIT 1\n",
        ");\n"
      ]
    }
  ],
  "metadata": {
    "kernelspec": {
      "display_name": "Python",
      "language": "python",
      "name": "conda-env-python-py"
    },
    "language_info": {
      "name": ""
    },
    "colab": {
      "provenance": []
    }
  },
  "nbformat": 4,
  "nbformat_minor": 0
}